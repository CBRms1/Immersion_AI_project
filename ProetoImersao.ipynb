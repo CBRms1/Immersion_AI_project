{
  "nbformat": 4,
  "nbformat_minor": 0,
  "metadata": {
    "colab": {
      "provenance": [],
      "authorship_tag": "ABX9TyOixKiK9WGt/6PRGqOWkDWI",
      "include_colab_link": true
    },
    "kernelspec": {
      "name": "python3",
      "display_name": "Python 3"
    },
    "language_info": {
      "name": "python"
    }
  },
  "cells": [
    {
      "cell_type": "markdown",
      "metadata": {
        "id": "view-in-github",
        "colab_type": "text"
      },
      "source": [
        "<a href=\"https://colab.research.google.com/github/CBRms1/Projeto_Imersao/blob/main/ProetoImersao.ipynb\" target=\"_parent\"><img src=\"https://colab.research.google.com/assets/colab-badge.svg\" alt=\"Open In Colab\"/></a>"
      ]
    },
    {
      "cell_type": "code",
      "execution_count": 1,
      "metadata": {
        "id": "Nvo7wZ4Ka20n"
      },
      "outputs": [],
      "source": [
        "!pip install -U -q google-generativeai"
      ]
    },
    {
      "cell_type": "code",
      "source": [
        "import os\n",
        "import google.generativeai as genai\n",
        "from google.colab import userdata\n",
        "\n",
        "api_key = userdata.get('SECRET_KEY')\n",
        "genai.configure(api_key=api_key)\n",
        "\n",
        "def generate_history(prompt):\n",
        "  \"\"\"\n",
        "  Generates a fictional story based on the given prompt.\n",
        "\n",
        "  Args:\n",
        "    prompt: The question or instruction to the AI.\n",
        "\n",
        "  Returns:\n",
        "    he AI-generated story.\n",
        "  \"\"\"\n",
        "  try:\n",
        "    response = genai.generate_text(\n",
        "        model='models/text-bison-001',\n",
        "        prompt=prompt,\n",
        "        temperature=0.7,\n",
        "        max_output_tokens=5000\n",
        "    )\n",
        "    history = response.result\n",
        "  except Exception as e:\n",
        "    print(\"Sorry, I didn't understand your story.\")\n",
        "    history = None\n",
        "\n",
        "  else:\n",
        "    print('''\n",
        "    ------------------------------ History start ------------------------------\n",
        "\n",
        "    {}\n",
        "\n",
        "    ------------------------------- History end -------------------------------\n",
        "    '''.format(history))\n",
        "\n",
        "while True:\n",
        "  prompt = input(\"Digite sua pergunta ou instrução de história para a IA em inglês (ou 'exit' para encerrar):\\n\")\n",
        "  if prompt.lower() == 'exit':\n",
        "    break\n",
        "\n",
        "  history = generate_history(prompt)"
      ],
      "metadata": {
        "colab": {
          "base_uri": "https://localhost:8080/"
        },
        "collapsed": true,
        "id": "eG5nclOqc2Sn",
        "outputId": "6726b363-0cf2-4974-fee3-fa9f429e8b57"
      },
      "execution_count": 37,
      "outputs": [
        {
          "name": "stdout",
          "output_type": "stream",
          "text": [
            "Digite sua pergunta ou instrução de história para a IA em inglês (ou 'exit' para encerrar):\n",
            "exit\n"
          ]
        }
      ]
    }
  ]
}